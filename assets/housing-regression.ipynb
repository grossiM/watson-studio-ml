{
 "cells": [
  {
   "cell_type": "markdown",
   "metadata": {},
   "source": [
    "# Deploy a scikit-learn machine learning model to IBM Cloud\n",
    "\n"
   ]
  },
  {
   "cell_type": "markdown",
   "metadata": {},
   "source": [
    "This notebook explains how to deploy a scikit-learn model to IBM Cloud usign the **watson-machine-learning-client** library that allows you to interact with the IBM Machine Learning service.\n",
    "\n",
    "### Goal\n",
    "Deploy a **Linear Regression** model that predicts the median house price in a given area in Boston. \n",
    "\n",
    "### Data\n",
    "We will use the **Boston House Prices dataset** provided with scikit-learn. The data consists of the following columns\n",
    "    - CRIM     per capita crime rate by town\n",
    "    - ZN       proportion of residential land zoned for lots over 25,000 sq.ft.\n",
    "    - INDUS    proportion of non-retail business acres per town\n",
    "    - CHAS     Charles River dummy variable (= 1 if tract bounds river; 0 otherwise)\n",
    "    - NOX      nitric oxides concentration (parts per 10 million)\n",
    "    - RM       average number of rooms per dwelling\n",
    "    - AGE      proportion of owner-occupied units built prior to 1940\n",
    "    - DIS      weighted distances to five Boston employment centres\n",
    "    - RAD      index of accessibility to radial highways\n",
    "    - TAX      full-value property-tax rate per $10,000.\n",
    "    \n",
    "    - PTRATIO  pupil-teacher ratio by town\n",
    "    - B        1000(Bk - 0.63)^2 where Bk is the proportion of blacks by town\n",
    "    - LSTAT    % lower status of the population\n",
    "    - MEDV     Median value of owner-occupied homes in $1000's\n",
    "    \n",
    "Our goal is to predict `MEDV` assuming we have the other features/inputs available.\n",
    "\n",
    "### Typical Steps in Data Science Projects\n",
    "0. Busines problem / understanding\n",
    "1. Data acquisition\n",
    "2. Explore the data / or use Data Refinery\n",
    "3. Model preparation\n",
    "4. Model evaluation and performance optimization\n",
    "5. Store the model on IBM Cloud.\n",
    "6. Deploy the model on IBM Cloud.\n",
    "7. Use the model deployed on IBM Cloud.\n",
    "\n"
   ]
  },
  {
   "cell_type": "markdown",
   "metadata": {},
   "source": [
    "## Pre-requisites\n",
    "1. Create a Machine Learning service instance (use the free plan)\n",
    "https://dataplatform.cloud.ibm.com/docs/content/wsj/analyze-data/wml-setup.html\n",
    "2. This notebook needs \n",
    "   - Python 3.5\n",
    "   - scikit-learn 0.19.1\n",
    "   - watson-machine-learning-client"
   ]
  },
  {
   "cell_type": "code",
   "execution_count": null,
   "metadata": {
    "scrolled": true
   },
   "outputs": [],
   "source": [
    "!pip install watson-machine-learning-client --upgrade\n",
    "# if this is already installed, you will see a whole bunch of `Requirement already up-to-date`"
   ]
  },
  {
   "cell_type": "markdown",
   "metadata": {},
   "source": [
    "## 1. Load the data"
   ]
  },
  {
   "cell_type": "code",
   "execution_count": null,
   "metadata": {},
   "outputs": [],
   "source": [
    "from sklearn.linear_model import LinearRegression\n",
    "from sklearn.datasets import load_boston\n",
    "import matplotlib.pyplot as plt\n",
    "from sklearn.model_selection import train_test_split\n",
    "from sklearn.metrics import mean_squared_error, r2_score\n",
    "\n",
    "boston = load_boston()\n",
    "X_train, X_test, y_train, y_test = train_test_split(boston.data, boston.target)\n",
    "\n",
    "# Create a new Linear Regression Model\n",
    "LR_model = LinearRegression()\n",
    "\n",
    "# Train the model\n",
    "LR_model.fit(X_train, y_train)\n",
    "\n",
    "# store actual and predited data to draw chart\n",
    "predicted = LR_model.predict(X_test)\n",
    "actual = y_test\n",
    "\n",
    "plt.figure(figsize=(4, 3))\n",
    "plt.scatter(actual, predicted)\n",
    "plt.plot([0, 50], [0, 50], '--k')\n",
    "plt.axis('tight')\n",
    "plt.xlabel('True Median Value ($1000s)')\n",
    "plt.ylabel('Predicted Median Value ($1000s)')\n",
    "plt.tight_layout()\n",
    "\n",
    "# The coefficients\n",
    "print('Coefficients: \\n', LR_model.coef_)\n",
    "# The mean squared error\n",
    "print(\"Mean squared error: %.2f\"\n",
    "      % mean_squared_error(actual, predicted))\n",
    "# Explained variance score: 1 is perfect prediction\n",
    "print('Variance score: %.2f' % r2_score(actual, predicted))"
   ]
  },
  {
   "cell_type": "code",
   "execution_count": null,
   "metadata": {},
   "outputs": [],
   "source": [
    "# we will use WML to work with IBM Machine Learning Service\n",
    "from watson_machine_learning_client import WatsonMachineLearningAPIClient\n",
    "\n",
    "# Grab your credentials from the Watson Service section in Watson Studio or IBM Cloud Dashboard\n",
    "wml_credentials = {\n",
    "}\n",
    "\n",
    "# Instantiate WatsonMachineLearningAPIClient\n",
    "from watson_machine_learning_client import WatsonMachineLearningAPIClient\n",
    "client = WatsonMachineLearningAPIClient( wml_credentials )\n",
    "\n",
    "# store the model\n",
    "published_model = client.repository.store_model(model=LR_model,\n",
    "                                                meta_props={'name':'upkar-housing-linear-reg'},\n",
    "                                                training_data=X_train, training_target=y_train)"
   ]
  },
  {
   "cell_type": "code",
   "execution_count": null,
   "metadata": {
    "scrolled": false
   },
   "outputs": [],
   "source": [
    "import json\n",
    "\n",
    "# grab the model from IBM Cloud\n",
    "published_model_uid = client.repository.get_model_uid(published_model)\n",
    "\n",
    "# create a new deployment for the model\n",
    "model_deployed = client.deployments.create(published_model_uid, \"Deployment of scikit model\")\n",
    "\n",
    "#get the scoring endpoint\n",
    "scoring_endpoint = client.deployments.get_scoring_url(model_deployed)\n",
    "print(scoring_endpoint)\n",
    "\n",
    "#use the scoring endpoint to predict house median price some test data\n",
    "scoring_payload = {\"values\": [list(X_test[0]), list(X_test[1])]}\n",
    "predictions = client.deployments.score(scoring_endpoint, scoring_payload)\n",
    "print(json.dumps(predictions, indent=2))"
   ]
  },
  {
   "cell_type": "code",
   "execution_count": null,
   "metadata": {},
   "outputs": [],
   "source": []
  }
 ],
 "metadata": {
  "kernelspec": {
   "display_name": "Python 3.5",
   "language": "python",
   "name": "python3"
  },
  "language_info": {
   "codemirror_mode": {
    "name": "ipython",
    "version": 3
   },
   "file_extension": ".py",
   "mimetype": "text/x-python",
   "name": "python",
   "nbconvert_exporter": "python",
   "pygments_lexer": "ipython3",
   "version": "3.5.5"
  }
 },
 "nbformat": 4,
 "nbformat_minor": 1
}
